{
 "cells": [
  {
   "cell_type": "code",
   "execution_count": null,
   "id": "bd58f9cb-45fc-4f9e-86bb-fac44d1ab317",
   "metadata": {},
   "outputs": [],
   "source": [
    "Q1. What is Abstraction in OOps? Explain with an example."
   ]
  },
  {
   "cell_type": "code",
   "execution_count": null,
   "id": "d272c892-eea8-4a47-89cb-7ce494a8df96",
   "metadata": {},
   "outputs": [],
   "source": [
    "It hides unnecessary code details from the user. Also,  when we do not want to give out \n",
    "sensitive parts of our code implementation and this is where data abstraction came.\n",
    "example:\n",
    "    print(\"Hello World\")\n",
    "    \n",
    "    Here we know how print function is use but we  do not need to know how print function is work."
   ]
  },
  {
   "cell_type": "code",
   "execution_count": null,
   "id": "4a87ddfa-5cdb-40ca-ab4d-b02703ab46d4",
   "metadata": {},
   "outputs": [],
   "source": [
    "Q2. Differentiate between Abstraction and Encapsulation. Explain with an example."
   ]
  },
  {
   "cell_type": "code",
   "execution_count": null,
   "id": "d55b0f57-ea82-47a7-b282-2289102f6d65",
   "metadata": {},
   "outputs": [],
   "source": [
    "Abstraction : \n",
    "   1) Abstraction means focusing on essential features of an object or a system while ignoring irrelevant details.\n",
    "   2)Abstraction focus is on “what” should be done.\n",
    "   3)We can implement abstraction using abstract class and interfaces\n",
    "   4)Abstraction provides access to specific part of data.\n",
    "    \n",
    "\n",
    "Encapsulation:\n",
    "   1) Encapsulation is a mechanism that packs data and methods into a single unit. It protact private data.\n",
    "   2) Encapsulation focus is on “How” it should be done.\n",
    "\n",
    "    3)Whereas encapsulation can be implemented using by access modifier i.e. private, protected and public.\n",
    "    4)Encapsulation hides data and the user can not access same directly (data hiding)."
   ]
  },
  {
   "cell_type": "code",
   "execution_count": 2,
   "id": "a4693967-6fca-47ec-8e02-dcbeaf901271",
   "metadata": {},
   "outputs": [
    {
     "name": "stdout",
     "output_type": "stream",
     "text": [
      "Selling Price: 900\n",
      "Selling Price: 900\n",
      "Selling Price: 1000\n",
      "milage is 30km/h\n",
      "milage is 45km /h\n"
     ]
    }
   ],
   "source": [
    "#Encapsulation\n",
    "\n",
    "class Computer:\n",
    "\n",
    "    def __init__(self):\n",
    "        self.__maxprice = 900\n",
    "\n",
    "    def sell(self):\n",
    "        print(\"Selling Price: {}\".format(self.__maxprice))\n",
    "\n",
    "    def setMaxPrice(self, price):\n",
    "        self.__maxprice = price\n",
    "\n",
    "c = Computer()\n",
    "c.sell()\n",
    "\n",
    "# change the price\n",
    "c.__maxprice = 1000\n",
    "c.sell()\n",
    "\n",
    "# using setter function\n",
    "c.setMaxPrice(1000)\n",
    "c.sell()\n",
    "\n",
    "\n",
    "\n",
    "\n",
    "\n",
    "\n",
    "#Abstraction\n",
    "import abc  \n",
    "class car :\n",
    "    @abc.abstractmethod\n",
    "    def milage(self):\n",
    "        pass\n",
    "    def color(self):\n",
    "        print(\"white\")\n",
    "        \n",
    "class Ritz(car):\n",
    "    def milage(Self):\n",
    "        print(\"milage is 30km/h\")\n",
    "\n",
    "class Tata:        \n",
    "    def milage(car):\n",
    "        print(\"milage is 45km /h\")\n",
    "        \n",
    "r1=Ritz()\n",
    "t1=Tata()\n",
    "r1.milage()\n",
    "t1.milage()\n",
    "    \n",
    "\n"
   ]
  },
  {
   "cell_type": "code",
   "execution_count": null,
   "id": "3ba02d0c-8e61-4e07-827f-c712c3843923",
   "metadata": {},
   "outputs": [],
   "source": [
    "Q3. What is abc module in python? Why is it used?\n",
    "answer\n",
    " abc module is a abstract base class .\n",
    "    By using an abstract class, a class can derive identity from another class without any object inheritance"
   ]
  },
  {
   "cell_type": "code",
   "execution_count": null,
   "id": "18c5f30c-5507-4b82-9b10-aade89fc0836",
   "metadata": {},
   "outputs": [],
   "source": []
  },
  {
   "cell_type": "code",
   "execution_count": null,
   "id": "5bf9f4c2-0235-4549-b12f-63269c66c05e",
   "metadata": {},
   "outputs": [],
   "source": []
  },
  {
   "cell_type": "code",
   "execution_count": null,
   "id": "3c37fba3-3c77-46dc-b2c3-45bae6a74af6",
   "metadata": {},
   "outputs": [],
   "source": [
    "Q4.Q4. How can we achieve data abstraction?\n",
    "Answer :\n",
    "    We can achivedata abstraction by using abc module (class ABC and decorator abstractmethods)\n",
    "    Syntex: \n",
    "        from ABC import abc,abstraction\n",
    "        class name(ABC):\n",
    "            #abstract method ( Method that has declaration but does not have implementation)\n",
    "            #concrete method ( in which implementaion is present)\n",
    "            \n",
    "            \n",
    "            "
   ]
  },
  {
   "cell_type": "code",
   "execution_count": null,
   "id": "9250e248-7b96-45d2-904e-82b3cc36c774",
   "metadata": {},
   "outputs": [],
   "source": [
    "Q5. Can we create an instance of an abstract class? Explain your answer.\n",
    "\n",
    "Answer:\n",
    "    No\n",
    "    Abstract class use only for inheritance not for object creation"
   ]
  },
  {
   "cell_type": "code",
   "execution_count": 1,
   "id": "7d303a20-443b-451a-b1d9-4dd84bcef1fe",
   "metadata": {},
   "outputs": [],
   "source": []
  }
 ],
 "metadata": {
  "kernelspec": {
   "display_name": "Python 3 (ipykernel)",
   "language": "python",
   "name": "python3"
  },
  "language_info": {
   "codemirror_mode": {
    "name": "ipython",
    "version": 3
   },
   "file_extension": ".py",
   "mimetype": "text/x-python",
   "name": "python",
   "nbconvert_exporter": "python",
   "pygments_lexer": "ipython3",
   "version": "3.10.8"
  }
 },
 "nbformat": 4,
 "nbformat_minor": 5
}
